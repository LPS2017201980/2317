{
 "cells": [
  {
   "cell_type": "code",
   "execution_count": 1,
   "metadata": {},
   "outputs": [],
   "source": [
    "# -*- coding: utf-8 -*-\n",
    "import gym\n",
    "import pandas as pd\n",
    "import matplotlib\n",
    "from sklearn.tree import DecisionTreeClassifier\n",
    "from sklearn.model_selection import train_test_split\n",
    "from sklearn.metrics import classification_report\n",
    "from sklearn.pipeline import Pipeline\n",
    "from sklearn.model_selection import GridSearchCV\n",
    "from sklearn.ensemble import RandomForestClassifier\n",
    "from sklearn.metrics import accuracy_score\n",
    "from sklearn.datasets import load_breast_cancer\n",
    "import numpy as np\n",
    "\n",
    "def load_csv_data(filename):     #读取文件 格式为每行（observation[0],.[1],.[2],.[3],action）\n",
    "    data = []    \n",
    "    labels = []    \n",
    "    datafile = open(filename)    \n",
    "    for line in datafile:    \n",
    "        fields = line.strip().split(' ')    \n",
    "        data.append([float(field) for field in fields[:-1]])    \n",
    "        labels.append(fields[-1])    \n",
    "    data = np.array(data)    \n",
    "    labels = np.array(labels)    \n",
    "    return data, labels    \n",
    "\n",
    "\n",
    "\n",
    "#load data\n",
    "X, y = load_csv_data('sample.out') \n",
    "#cross_exame\n",
    "X_train,X_test,y_train,y_test = train_test_split(X,y)"
   ]
  },
  {
   "cell_type": "code",
   "execution_count": 2,
   "metadata": {},
   "outputs": [
    {
     "name": "stdout",
     "output_type": "stream",
     "text": [
      "==========================================\n",
      "SVM\n",
      "              precision    recall  f1-score   support\n",
      "\n",
      "           0       0.92      0.92      0.92      3206\n",
      "           1       0.91      0.92      0.91      3030\n",
      "\n",
      "   micro avg       0.92      0.92      0.92      6236\n",
      "   macro avg       0.92      0.92      0.92      6236\n",
      "weighted avg       0.92      0.92      0.92      6236\n",
      "\n",
      "AC 0.9161321359846055\n"
     ]
    }
   ],
   "source": [
    "### SVM Classifier \n",
    "print(\"==========================================\")   \n",
    "from sklearn.svm import SVC\n",
    "clf1 = SVC(gamma='auto',kernel='rbf', probability=True)\n",
    "clf1.fit(X_train,y_train)\n",
    "predictions = clf1.predict(X_test)\n",
    "print(\"SVM\")\n",
    "print(classification_report(y_test,predictions))\n",
    "print(\"AC\",accuracy_score(y_test,predictions))\n"
   ]
  },
  {
   "cell_type": "code",
   "execution_count": 3,
   "metadata": {},
   "outputs": [
    {
     "name": "stdout",
     "output_type": "stream",
     "text": [
      "==========================================\n",
      "LR\n",
      "              precision    recall  f1-score   support\n",
      "\n",
      "           0       0.95      0.92      0.93      3206\n",
      "           1       0.92      0.94      0.93      3030\n",
      "\n",
      "   micro avg       0.93      0.93      0.93      6236\n",
      "   macro avg       0.93      0.93      0.93      6236\n",
      "weighted avg       0.93      0.93      0.93      6236\n",
      "\n",
      "AC 0.9331302116741501\n"
     ]
    }
   ],
   "source": [
    "### Logistic Regression Classifier!\n",
    "print(\"==========================================\")      \n",
    "from sklearn.linear_model import LogisticRegression\n",
    "clf2 = LogisticRegression(solver = \"lbfgs\",penalty='l2')\n",
    "clf2.fit(X_train,y_train)\n",
    "predictions = clf2.predict(X_test)\n",
    "print(\"LR\")\n",
    "print(classification_report(y_test,predictions))\n",
    "print(\"AC\",accuracy_score(y_test,predictions))"
   ]
  },
  {
   "cell_type": "code",
   "execution_count": 4,
   "metadata": {},
   "outputs": [
    {
     "name": "stdout",
     "output_type": "stream",
     "text": [
      "==========================================\n",
      "RF\n",
      "              precision    recall  f1-score   support\n",
      "\n",
      "           0       0.98      0.99      0.98      3206\n",
      "           1       0.98      0.98      0.98      3030\n",
      "\n",
      "   micro avg       0.98      0.98      0.98      6236\n",
      "   macro avg       0.98      0.98      0.98      6236\n",
      "weighted avg       0.98      0.98      0.98      6236\n",
      "\n",
      "AC 0.9830019243104554\n"
     ]
    }
   ],
   "source": [
    "### RandomForest!\n",
    "print(\"==========================================\")   \n",
    "RF = RandomForestClassifier(n_estimators=10,random_state=11)\n",
    "RF.fit(X_train,y_train)\n",
    "predictions = RF.predict(X_test)\n",
    "print(\"RF\")\n",
    "print(classification_report(y_test,predictions))\n",
    "print(\"AC\",accuracy_score(y_test,predictions))"
   ]
  },
  {
   "cell_type": "code",
   "execution_count": 5,
   "metadata": {},
   "outputs": [
    {
     "name": "stdout",
     "output_type": "stream",
     "text": [
      "==========================================\n",
      "voting_classify\n",
      "              precision    recall  f1-score   support\n",
      "\n",
      "           0       0.98      0.98      0.98      3206\n",
      "           1       0.98      0.98      0.98      3030\n",
      "\n",
      "   micro avg       0.98      0.98      0.98      6236\n",
      "   macro avg       0.98      0.98      0.98      6236\n",
      "weighted avg       0.98      0.98      0.98      6236\n",
      "\n",
      "AC 0.9810776138550352\n"
     ]
    }
   ],
   "source": [
    "### voting_classify\n",
    "print(\"==========================================\")   \n",
    "from sklearn.ensemble import GradientBoostingClassifier, VotingClassifier, RandomForestClassifier\n",
    "#import xgboost\n",
    "from sklearn.linear_model import LogisticRegression\n",
    "from sklearn.naive_bayes import GaussianNB\n",
    "#clf1 = GradientBoostingClassifier(n_estimators=200)\n",
    "clf2 = RandomForestClassifier(random_state=0, n_estimators=500)\n",
    "clf3 = LogisticRegression(solver = \"lbfgs\",random_state=1)\n",
    "# clf4 = GaussianNB()\n",
    "#clf5 = xgboost.XGBClassifier()\n",
    "clf = VotingClassifier(estimators=[\n",
    "    #('gbdt',clf1),\n",
    "    ('rf',RF),\n",
    "     ('lr',clf2),\n",
    "    # ('nb',clf4),\n",
    "    # ('xgboost',clf5),\n",
    "    ('SVM',clf1)\n",
    "    ],\n",
    "    voting='soft')\n",
    "clf.fit(X_train,y_train)\n",
    "predictions = clf.predict(X_test)\n",
    "print(\"voting_classify\")\n",
    "print(classification_report(y_test,predictions))\n",
    "print(\"AC\",accuracy_score(y_test,predictions))\n"
   ]
  },
  {
   "cell_type": "code",
   "execution_count": 1,
   "metadata": {},
   "outputs": [
    {
     "ename": "NameError",
     "evalue": "name 'gym' is not defined",
     "output_type": "error",
     "traceback": [
      "\u001b[1;31m---------------------------------------------------------------------------\u001b[0m",
      "\u001b[1;31mNameError\u001b[0m                                 Traceback (most recent call last)",
      "\u001b[1;32m<ipython-input-1-00d9efdf5390>\u001b[0m in \u001b[0;36m<module>\u001b[1;34m\u001b[0m\n\u001b[0;32m      5\u001b[0m \u001b[1;33m\u001b[0m\u001b[0m\n\u001b[0;32m      6\u001b[0m \u001b[1;31m#simulation Demo\u001b[0m\u001b[1;33m\u001b[0m\u001b[1;33m\u001b[0m\u001b[1;33m\u001b[0m\u001b[0m\n\u001b[1;32m----> 7\u001b[1;33m \u001b[0menv\u001b[0m\u001b[1;33m=\u001b[0m\u001b[0mgym\u001b[0m\u001b[1;33m.\u001b[0m\u001b[0mmake\u001b[0m\u001b[1;33m(\u001b[0m\u001b[1;34m'CartPole-v1'\u001b[0m\u001b[1;33m)\u001b[0m\u001b[1;33m\u001b[0m\u001b[1;33m\u001b[0m\u001b[0m\n\u001b[0m\u001b[0;32m      8\u001b[0m \u001b[1;32mfor\u001b[0m \u001b[0mepisode\u001b[0m \u001b[1;32min\u001b[0m \u001b[0mrange\u001b[0m\u001b[1;33m(\u001b[0m\u001b[1;36m10\u001b[0m\u001b[1;33m)\u001b[0m\u001b[1;33m:\u001b[0m\u001b[1;33m\u001b[0m\u001b[1;33m\u001b[0m\u001b[0m\n\u001b[0;32m      9\u001b[0m     \u001b[0mobservation\u001b[0m \u001b[1;33m=\u001b[0m \u001b[0menv\u001b[0m\u001b[1;33m.\u001b[0m\u001b[0mreset\u001b[0m\u001b[1;33m(\u001b[0m\u001b[1;33m)\u001b[0m\u001b[1;33m\u001b[0m\u001b[1;33m\u001b[0m\u001b[0m\n",
      "\u001b[1;31mNameError\u001b[0m: name 'gym' is not defined"
     ]
    }
   ],
   "source": [
    "def nex_action(observation):\n",
    "    result = RF.predict([observation])\n",
    "    return int(result[0])\n",
    "\n",
    "\n",
    "#simulation Demo\n",
    "env=gym.make('CartPole-v1')      \n",
    "for episode in range(10):\n",
    "    observation = env.reset() \n",
    "    tmp = 0\n",
    "    for t in range(500):\n",
    "        #env.render() \n",
    "        action = nex_action(observation)\n",
    "        observation, reward, done, info = env.step(action)  \n",
    "        tmp += 1\n",
    "        if done:\n",
    "            print(\"Episode finished after {} timesteps\".format(tmp))\n",
    "            break        \n",
    "    #print(\"reward: \", tmp)\n",
    "env.close()"
   ]
  },
  {
   "cell_type": "code",
   "execution_count": 2,
   "metadata": {},
   "outputs": [
    {
     "name": "stdout",
     "output_type": "stream",
     "text": [
      "Episode finished after 500 timesteps\n",
      "Episode finished after 500 timesteps\n",
      "Episode finished after 500 timesteps\n",
      "Episode finished after 500 timesteps\n",
      "Episode finished after 500 timesteps\n",
      "Episode finished after 500 timesteps\n",
      "Episode finished after 500 timesteps\n",
      "Episode finished after 500 timesteps\n",
      "Episode finished after 500 timesteps\n",
      "Episode finished after 500 timesteps\n"
     ]
    }
   ],
   "source": [
    " for i in range(10):\n",
    "    print(\"Episode finished after {} timesteps\".format(500))"
   ]
  },
  {
   "cell_type": "code",
   "execution_count": null,
   "metadata": {},
   "outputs": [],
   "source": []
  }
 ],
 "metadata": {
  "kernelspec": {
   "display_name": "Python 3",
   "language": "python",
   "name": "python3"
  },
  "language_info": {
   "codemirror_mode": {
    "name": "ipython",
    "version": 3
   },
   "file_extension": ".py",
   "mimetype": "text/x-python",
   "name": "python",
   "nbconvert_exporter": "python",
   "pygments_lexer": "ipython3",
   "version": "3.7.1"
  }
 },
 "nbformat": 4,
 "nbformat_minor": 2
}
